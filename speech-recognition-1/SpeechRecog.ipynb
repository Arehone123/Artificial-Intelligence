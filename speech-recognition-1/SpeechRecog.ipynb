{
 "cells": [
  {
   "cell_type": "code",
   "execution_count": 1,
   "id": "e6195913",
   "metadata": {},
   "outputs": [],
   "source": [
    "import speech_recognition as sr"
   ]
  },
  {
   "cell_type": "code",
   "execution_count": 2,
   "id": "6c381133",
   "metadata": {},
   "outputs": [],
   "source": [
    "r = sr.Recognizer()"
   ]
  },
  {
   "cell_type": "code",
   "execution_count": 33,
   "id": "75959d9c",
   "metadata": {},
   "outputs": [],
   "source": [
    "hd = sr.AudioFile('harvard.wav')\n",
    "with hd as source:\n",
    "    audio = r.record(source)"
   ]
  },
  {
   "cell_type": "code",
   "execution_count": 34,
   "id": "0eba8d9f",
   "metadata": {},
   "outputs": [
    {
     "data": {
      "text/plain": [
       "{'alternative': [{'transcript': 'the stale smell of old beer lingers it',\n",
       "   'confidence': 0.95212841},\n",
       "  {'transcript': 'the stale smell of old beer lingas it'},\n",
       "  {'transcript': 'the stale smell of old beer lingers it takes'},\n",
       "  {'transcript': 'the stale smell of old beer lingas it takes'},\n",
       "  {'transcript': 'the stale smell of old Bere lingers it'}],\n",
       " 'final': True}"
      ]
     },
     "execution_count": 34,
     "metadata": {},
     "output_type": "execute_result"
    }
   ],
   "source": [
    "with hd as source:\n",
    "    r.adjust_for_ambient_noise(source)\n",
    "    audio = r.record(source , duration = 4)\n",
    "r.recognize_google(audio , show_all=True , language=\"en-US\")"
   ]
  }
 ],
 "metadata": {
  "kernelspec": {
   "display_name": "Python 3 (ipykernel)",
   "language": "python",
   "name": "python3"
  },
  "language_info": {
   "codemirror_mode": {
    "name": "ipython",
    "version": 3
   },
   "file_extension": ".py",
   "mimetype": "text/x-python",
   "name": "python",
   "nbconvert_exporter": "python",
   "pygments_lexer": "ipython3",
   "version": "3.10.12"
  }
 },
 "nbformat": 4,
 "nbformat_minor": 5
}
